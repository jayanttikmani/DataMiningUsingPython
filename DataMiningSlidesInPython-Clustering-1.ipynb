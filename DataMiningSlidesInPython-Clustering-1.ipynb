{
 "cells": [
  {
   "cell_type": "markdown",
   "metadata": {},
   "source": [
    "#### Clustering-1.pptx"
   ]
  },
  {
   "cell_type": "code",
   "execution_count": 143,
   "metadata": {
    "collapsed": false
   },
   "outputs": [],
   "source": [
    "#simple example\n",
    "import numpy as np\n",
    "X = np.arange(1,11,1)\n",
    "X = np.reshape(X, (-1,1))"
   ]
  },
  {
   "cell_type": "code",
   "execution_count": 144,
   "metadata": {
    "collapsed": false
   },
   "outputs": [
    {
     "data": {
      "text/plain": [
       "array([0, 0, 0, 0, 0, 1, 1, 1, 1, 1])"
      ]
     },
     "execution_count": 144,
     "metadata": {},
     "output_type": "execute_result"
    }
   ],
   "source": [
    "#K-means\n",
    "from sklearn.cluster import KMeans\n",
    "kmeans = KMeans(n_clusters=2, random_state=123457).fit(X)\n",
    "kmeans.labels_"
   ]
  },
  {
   "cell_type": "code",
   "execution_count": 145,
   "metadata": {
    "collapsed": false
   },
   "outputs": [
    {
     "data": {
      "text/plain": [
       "array([[ 3.],\n",
       "       [ 8.]])"
      ]
     },
     "execution_count": 145,
     "metadata": {},
     "output_type": "execute_result"
    }
   ],
   "source": [
    "kmeans.cluster_centers_"
   ]
  },
  {
   "cell_type": "code",
   "execution_count": 146,
   "metadata": {
    "collapsed": false
   },
   "outputs": [
    {
     "data": {
      "text/plain": [
       "20.0"
      ]
     },
     "execution_count": 146,
     "metadata": {},
     "output_type": "execute_result"
    }
   ],
   "source": [
    "#Sum of distances of samples to their closest cluster center.\n",
    "kmeans.inertia_"
   ]
  },
  {
   "cell_type": "code",
   "execution_count": 147,
   "metadata": {
    "collapsed": false
   },
   "outputs": [
    {
     "data": {
      "text/plain": [
       "82.5"
      ]
     },
     "execution_count": 147,
     "metadata": {},
     "output_type": "execute_result"
    }
   ],
   "source": [
    "#the total SS\n",
    "tot_SS = 0\n",
    "for i in range(0,10):\n",
    "    tot_SS += np.square(X[i][0]-np.mean(X))\n",
    "tot_SS"
   ]
  },
  {
   "cell_type": "code",
   "execution_count": 148,
   "metadata": {
    "collapsed": true
   },
   "outputs": [],
   "source": [
    "# The within SS are 10 for each cluster\n",
    "w_1=0\n",
    "w_2=0\n",
    "for i in range(0,5):\n",
    "    w_1 += np.square(X[i][0]-np.mean(X[0:5]))\n",
    "for i in range(5,10):\n",
    "    w_2 += np.square(X[i][0]-np.mean(X[5:10]))"
   ]
  },
  {
   "cell_type": "code",
   "execution_count": 149,
   "metadata": {
    "collapsed": false
   },
   "outputs": [
    {
     "data": {
      "text/plain": [
       "10.0"
      ]
     },
     "execution_count": 149,
     "metadata": {},
     "output_type": "execute_result"
    }
   ],
   "source": [
    "w_1"
   ]
  },
  {
   "cell_type": "code",
   "execution_count": 150,
   "metadata": {
    "collapsed": false
   },
   "outputs": [
    {
     "data": {
      "text/plain": [
       "10.0"
      ]
     },
     "execution_count": 150,
     "metadata": {},
     "output_type": "execute_result"
    }
   ],
   "source": [
    "w_2"
   ]
  },
  {
   "cell_type": "code",
   "execution_count": 151,
   "metadata": {
    "collapsed": false
   },
   "outputs": [
    {
     "data": {
      "text/plain": [
       "62.5"
      ]
     },
     "execution_count": 151,
     "metadata": {},
     "output_type": "execute_result"
    }
   ],
   "source": [
    "# The between SS (Cluster means are 3 and 8 and total mean is 5.5)\n",
    "# These need to be weighted by # observation\n",
    "bet_SS = 5*np.square(3-5.5)+5*np.square(8-5.5)\n",
    "bet_SS"
   ]
  },
  {
   "cell_type": "code",
   "execution_count": 152,
   "metadata": {
    "collapsed": false
   },
   "outputs": [
    {
     "data": {
      "text/plain": [
       "75.757575757575751"
      ]
     },
     "execution_count": 152,
     "metadata": {},
     "output_type": "execute_result"
    }
   ],
   "source": [
    "(bet_SS/tot_SS)*100"
   ]
  },
  {
   "cell_type": "code",
   "execution_count": 153,
   "metadata": {
    "collapsed": false
   },
   "outputs": [
    {
     "data": {
      "text/plain": [
       "array([[ 1],\n",
       "       [ 2],\n",
       "       [ 3],\n",
       "       [ 4],\n",
       "       [ 5],\n",
       "       [11],\n",
       "       [12],\n",
       "       [13],\n",
       "       [14],\n",
       "       [15]])"
      ]
     },
     "execution_count": 153,
     "metadata": {},
     "output_type": "execute_result"
    }
   ],
   "source": [
    "# Now consider what happens when clusters are far away\n",
    "Y1 = np.arange(1,6,1)\n",
    "Y2 = np.arange(11,16,1)\n",
    "Y = np.append(Y1,Y2)\n",
    "Y = np.reshape(Y, (-1,1))\n",
    "Y"
   ]
  },
  {
   "cell_type": "code",
   "execution_count": 154,
   "metadata": {
    "collapsed": false
   },
   "outputs": [
    {
     "data": {
      "text/plain": [
       "array([0, 0, 0, 0, 0, 1, 1, 1, 1, 1])"
      ]
     },
     "execution_count": 154,
     "metadata": {},
     "output_type": "execute_result"
    }
   ],
   "source": [
    "#K-means\n",
    "from sklearn.cluster import KMeans\n",
    "kmeans = KMeans(n_clusters=2, random_state=123457).fit(Y)\n",
    "kmeans.labels_"
   ]
  },
  {
   "cell_type": "code",
   "execution_count": 155,
   "metadata": {
    "collapsed": false
   },
   "outputs": [
    {
     "data": {
      "text/plain": [
       "array([[  3.],\n",
       "       [ 13.]])"
      ]
     },
     "execution_count": 155,
     "metadata": {},
     "output_type": "execute_result"
    }
   ],
   "source": [
    "kmeans.cluster_centers_"
   ]
  },
  {
   "cell_type": "code",
   "execution_count": 156,
   "metadata": {
    "collapsed": false
   },
   "outputs": [
    {
     "data": {
      "text/plain": [
       "20.0"
      ]
     },
     "execution_count": 156,
     "metadata": {},
     "output_type": "execute_result"
    }
   ],
   "source": [
    "#Sum of distances of samples to their closest cluster center.\n",
    "kmeans.inertia_"
   ]
  },
  {
   "cell_type": "code",
   "execution_count": 157,
   "metadata": {
    "collapsed": false
   },
   "outputs": [
    {
     "data": {
      "text/plain": [
       "270.0"
      ]
     },
     "execution_count": 157,
     "metadata": {},
     "output_type": "execute_result"
    }
   ],
   "source": [
    "#the total SS\n",
    "tot_SS = 0\n",
    "for i in range(0,10):\n",
    "    tot_SS += np.square(Y[i][0]-np.mean(Y))\n",
    "tot_SS"
   ]
  },
  {
   "cell_type": "code",
   "execution_count": 158,
   "metadata": {
    "collapsed": true
   },
   "outputs": [],
   "source": [
    "# The within SS are 10 for each cluster\n",
    "w_1=0\n",
    "w_2=0\n",
    "\n",
    "w_1 = np.sum((Y[0:5]-Y[0:5].mean(0))**2)\n",
    "for i in range(5,10):\n",
    "    w_2 += np.square(Y[i][0]-np.mean(Y[5:10]))"
   ]
  },
  {
   "cell_type": "code",
   "execution_count": 159,
   "metadata": {
    "collapsed": false
   },
   "outputs": [
    {
     "data": {
      "text/plain": [
       "10.0"
      ]
     },
     "execution_count": 159,
     "metadata": {},
     "output_type": "execute_result"
    }
   ],
   "source": [
    "w_1"
   ]
  },
  {
   "cell_type": "code",
   "execution_count": 160,
   "metadata": {
    "collapsed": false
   },
   "outputs": [
    {
     "data": {
      "text/plain": [
       "10.0"
      ]
     },
     "execution_count": 160,
     "metadata": {},
     "output_type": "execute_result"
    }
   ],
   "source": [
    "w_2"
   ]
  },
  {
   "cell_type": "code",
   "execution_count": 161,
   "metadata": {
    "collapsed": false
   },
   "outputs": [
    {
     "data": {
      "text/plain": [
       "250"
      ]
     },
     "execution_count": 161,
     "metadata": {},
     "output_type": "execute_result"
    }
   ],
   "source": [
    "# The between SS (Cluster means are 3 and 13 and total mean is 8)\n",
    "# These need to be weighted by # observation\n",
    "bet_SS = 5*np.square(3-8)+5*np.square(13-8)\n",
    "bet_SS"
   ]
  },
  {
   "cell_type": "code",
   "execution_count": 162,
   "metadata": {
    "collapsed": false
   },
   "outputs": [
    {
     "data": {
      "text/plain": [
       "92.592592592592595"
      ]
     },
     "execution_count": 162,
     "metadata": {},
     "output_type": "execute_result"
    }
   ],
   "source": [
    "(bet_SS/tot_SS)*100"
   ]
  },
  {
   "cell_type": "markdown",
   "metadata": {},
   "source": [
    "##### Wine Dataset"
   ]
  },
  {
   "cell_type": "code",
   "execution_count": 168,
   "metadata": {
    "collapsed": false
   },
   "outputs": [
    {
     "data": {
      "text/html": [
       "<div>\n",
       "<table border=\"1\" class=\"dataframe\">\n",
       "  <thead>\n",
       "    <tr style=\"text-align: right;\">\n",
       "      <th></th>\n",
       "      <th>Type</th>\n",
       "      <th>Alcohol</th>\n",
       "      <th>Malic_Acid</th>\n",
       "      <th>Ash</th>\n",
       "      <th>Ash_Alcalinity</th>\n",
       "      <th>Magnesium</th>\n",
       "      <th>Total_Phenols</th>\n",
       "      <th>Flavanoids</th>\n",
       "      <th>Nonflavanoid_Phenols</th>\n",
       "      <th>Proanthocyanins</th>\n",
       "      <th>Color_Intensity</th>\n",
       "      <th>Hue</th>\n",
       "      <th>OD280_OD315</th>\n",
       "      <th>Proline</th>\n",
       "    </tr>\n",
       "  </thead>\n",
       "  <tbody>\n",
       "    <tr>\n",
       "      <th>0</th>\n",
       "      <td>A</td>\n",
       "      <td>14.23</td>\n",
       "      <td>1.71</td>\n",
       "      <td>2.43</td>\n",
       "      <td>15.6</td>\n",
       "      <td>127</td>\n",
       "      <td>2.80</td>\n",
       "      <td>3.06</td>\n",
       "      <td>0.28</td>\n",
       "      <td>2.29</td>\n",
       "      <td>5.64</td>\n",
       "      <td>1.04</td>\n",
       "      <td>3.92</td>\n",
       "      <td>1065</td>\n",
       "    </tr>\n",
       "    <tr>\n",
       "      <th>1</th>\n",
       "      <td>A</td>\n",
       "      <td>13.20</td>\n",
       "      <td>1.78</td>\n",
       "      <td>2.14</td>\n",
       "      <td>11.2</td>\n",
       "      <td>100</td>\n",
       "      <td>2.65</td>\n",
       "      <td>2.76</td>\n",
       "      <td>0.26</td>\n",
       "      <td>1.28</td>\n",
       "      <td>4.38</td>\n",
       "      <td>1.05</td>\n",
       "      <td>3.40</td>\n",
       "      <td>1050</td>\n",
       "    </tr>\n",
       "    <tr>\n",
       "      <th>2</th>\n",
       "      <td>A</td>\n",
       "      <td>13.16</td>\n",
       "      <td>2.36</td>\n",
       "      <td>2.67</td>\n",
       "      <td>18.6</td>\n",
       "      <td>101</td>\n",
       "      <td>2.80</td>\n",
       "      <td>3.24</td>\n",
       "      <td>0.30</td>\n",
       "      <td>2.81</td>\n",
       "      <td>5.68</td>\n",
       "      <td>1.03</td>\n",
       "      <td>3.17</td>\n",
       "      <td>1185</td>\n",
       "    </tr>\n",
       "    <tr>\n",
       "      <th>3</th>\n",
       "      <td>A</td>\n",
       "      <td>14.37</td>\n",
       "      <td>1.95</td>\n",
       "      <td>2.50</td>\n",
       "      <td>16.8</td>\n",
       "      <td>113</td>\n",
       "      <td>3.85</td>\n",
       "      <td>3.49</td>\n",
       "      <td>0.24</td>\n",
       "      <td>2.18</td>\n",
       "      <td>7.80</td>\n",
       "      <td>0.86</td>\n",
       "      <td>3.45</td>\n",
       "      <td>1480</td>\n",
       "    </tr>\n",
       "    <tr>\n",
       "      <th>4</th>\n",
       "      <td>A</td>\n",
       "      <td>13.24</td>\n",
       "      <td>2.59</td>\n",
       "      <td>2.87</td>\n",
       "      <td>21.0</td>\n",
       "      <td>118</td>\n",
       "      <td>2.80</td>\n",
       "      <td>2.69</td>\n",
       "      <td>0.39</td>\n",
       "      <td>1.82</td>\n",
       "      <td>4.32</td>\n",
       "      <td>1.04</td>\n",
       "      <td>2.93</td>\n",
       "      <td>735</td>\n",
       "    </tr>\n",
       "  </tbody>\n",
       "</table>\n",
       "</div>"
      ],
      "text/plain": [
       "  Type  Alcohol  Malic_Acid   Ash  Ash_Alcalinity  Magnesium  Total_Phenols  \\\n",
       "0    A    14.23        1.71  2.43            15.6        127           2.80   \n",
       "1    A    13.20        1.78  2.14            11.2        100           2.65   \n",
       "2    A    13.16        2.36  2.67            18.6        101           2.80   \n",
       "3    A    14.37        1.95  2.50            16.8        113           3.85   \n",
       "4    A    13.24        2.59  2.87            21.0        118           2.80   \n",
       "\n",
       "   Flavanoids  Nonflavanoid_Phenols  Proanthocyanins  Color_Intensity   Hue  \\\n",
       "0        3.06                  0.28             2.29             5.64  1.04   \n",
       "1        2.76                  0.26             1.28             4.38  1.05   \n",
       "2        3.24                  0.30             2.81             5.68  1.03   \n",
       "3        3.49                  0.24             2.18             7.80  0.86   \n",
       "4        2.69                  0.39             1.82             4.32  1.04   \n",
       "\n",
       "   OD280_OD315  Proline  \n",
       "0         3.92     1065  \n",
       "1         3.40     1050  \n",
       "2         3.17     1185  \n",
       "3         3.45     1480  \n",
       "4         2.93      735  "
      ]
     },
     "execution_count": 168,
     "metadata": {},
     "output_type": "execute_result"
    }
   ],
   "source": [
    "import pandas as pd\n",
    "#Loading Dataset in DataFrame\n",
    "Wine = pd.DataFrame.from_csv(\"C:\\\\Users\\\\Jayant\\\\Desktop\\\\DMPA\\\\PythonSlides\\\\Wine.csv\", index_col=None)\n",
    "Wine.head()"
   ]
  },
  {
   "cell_type": "code",
   "execution_count": 169,
   "metadata": {
    "collapsed": false
   },
   "outputs": [
    {
     "data": {
      "text/plain": [
       "array([[ 1.51861254, -0.5622498 ,  0.23205254, ...,  0.36217728,\n",
       "         1.84791957,  1.01300893],\n",
       "       [ 0.24628963, -0.49941338, -0.82799632, ...,  0.40605066,\n",
       "         1.1134493 ,  0.96524152],\n",
       "       [ 0.19687903,  0.02123125,  1.10933436, ...,  0.31830389,\n",
       "         0.78858745,  1.39514818],\n",
       "       ..., \n",
       "       [ 0.33275817,  1.74474449, -0.38935541, ..., -1.61212515,\n",
       "        -1.48544548,  0.28057537],\n",
       "       [ 0.20923168,  0.22769377,  0.01273209, ..., -1.56825176,\n",
       "        -1.40069891,  0.29649784],\n",
       "       [ 1.39508604,  1.58316512,  1.36520822, ..., -1.52437837,\n",
       "        -1.42894777, -0.59516041]])"
      ]
     },
     "execution_count": 169,
     "metadata": {},
     "output_type": "execute_result"
    }
   ],
   "source": [
    "#Normalizing the data\n",
    "from sklearn import preprocessing\n",
    "Wine_scaled_X = preprocessing.scale(Wine.ix[:,1:])\n",
    "Wine_scaled_X"
   ]
  },
  {
   "cell_type": "code",
   "execution_count": 170,
   "metadata": {
    "collapsed": false
   },
   "outputs": [
    {
     "data": {
      "text/plain": [
       "array([0, 0, 0, 0, 4, 0, 0, 0, 0, 0, 0, 0, 0, 0, 0, 0, 0, 0, 0, 0, 0, 4, 0,\n",
       "       4, 4, 4, 0, 0, 4, 0, 0, 0, 0, 4, 4, 0, 4, 4, 7, 0, 0, 2, 0, 2, 0, 0,\n",
       "       0, 0, 0, 0, 0, 0, 0, 0, 0, 0, 0, 0, 0, 7, 3, 1, 7, 2, 3, 4, 7, 7, 1,\n",
       "       5, 1, 4, 2, 4, 2, 7, 7, 1, 5, 2, 7, 2, 3, 1, 2, 7, 3, 3, 3, 3, 3, 3,\n",
       "       3, 2, 2, 5, 4, 7, 2, 2, 7, 7, 2, 7, 2, 3, 2, 3, 2, 2, 2, 2, 3, 3, 3,\n",
       "       3, 2, 2, 1, 2, 2, 4, 4, 2, 2, 2, 2, 3, 2, 2, 1, 1, 1, 1, 1, 1, 1, 1,\n",
       "       1, 1, 1, 1, 1, 1, 6, 1, 1, 6, 6, 6, 6, 6, 6, 6, 1, 6, 6, 6, 6, 6, 6,\n",
       "       1, 1, 1, 6, 1, 6, 6, 6, 6, 1, 6, 6, 6, 6, 6, 6, 6])"
      ]
     },
     "execution_count": 170,
     "metadata": {},
     "output_type": "execute_result"
    }
   ],
   "source": [
    "#K-means\n",
    "np.random.seed(12345)\n",
    "from sklearn.cluster import KMeans\n",
    "kmeans = KMeans(n_clusters=8, n_init=20).fit(Wine_scaled_X)\n",
    "kmeans.labels_"
   ]
  },
  {
   "cell_type": "code",
   "execution_count": 171,
   "metadata": {
    "collapsed": false
   },
   "outputs": [
    {
     "data": {
      "text/plain": [
       "array([[  1.07821373e+00,  -3.61641600e-01,   1.66892116e-01,\n",
       "         -8.95419921e-01,   4.62320719e-01,   9.87692196e-01,\n",
       "          1.05969987e+00,  -6.73576690e-01,   6.88593885e-01,\n",
       "          3.60705678e-01,   4.27987357e-01,   7.92886194e-01,\n",
       "          1.33678887e+00],\n",
       "       [ -9.42905705e-02,   6.44786539e-01,  -7.60404787e-02,\n",
       "          2.28876932e-01,  -1.44850234e-01,  -1.10865011e+00,\n",
       "         -1.22518185e+00,   8.13864280e-01,  -1.15795043e+00,\n",
       "         -3.51697425e-02,  -7.41551793e-01,  -1.16260141e+00,\n",
       "         -4.65847219e-01],\n",
       "       [ -8.64170981e-01,   9.08775248e-02,  -5.14141190e-01,\n",
       "          2.17930582e-01,  -6.13775045e-01,   4.21122654e-01,\n",
       "          4.06820464e-01,  -4.62285793e-01,   4.61821137e-01,\n",
       "         -8.97576846e-01,  -2.66317070e-02,   6.41985632e-01,\n",
       "         -7.49882883e-01],\n",
       "       [ -1.22948869e+00,  -6.20333884e-01,   2.64305549e-01,\n",
       "          7.20435894e-01,  -8.57456639e-01,  -5.99169272e-01,\n",
       "         -2.92188821e-01,   1.11315422e+00,  -3.43746631e-01,\n",
       "         -9.73219561e-01,   8.42203747e-01,  -2.81368318e-02,\n",
       "         -7.76114585e-01],\n",
       "       [  3.09683703e-03,  -2.25626119e-01,   1.38805410e+00,\n",
       "          5.90827592e-01,   7.64161765e-01,   5.08560229e-01,\n",
       "          6.42644457e-01,  -2.61708940e-01,   2.06485083e-01,\n",
       "         -4.38502629e-01,   7.02196026e-01,   6.97661449e-01,\n",
       "          1.99569807e-01],\n",
       "       [ -8.20155793e-01,  -9.90135898e-01,  -1.46158875e+00,\n",
       "         -7.89232185e-01,   3.50540761e+00,  -3.39340215e-01,\n",
       "         -2.30179112e-01,  -7.40141175e-01,   2.20021082e+00,\n",
       "         -9.11896404e-01,   9.17906846e-01,   8.23660473e-02,\n",
       "          1.74425576e-01],\n",
       "       [  3.52237353e-01,   9.61015509e-01,   4.06384184e-01,\n",
       "          7.46456064e-01,   7.75563088e-02,  -8.21683096e-01,\n",
       "         -1.15884833e+00,   6.29685856e-01,  -4.13314678e-01,\n",
       "          1.77985348e+00,  -1.48387986e+00,  -1.36810407e+00,\n",
       "         -3.11617988e-01],\n",
       "       [ -5.95590957e-01,  -9.16481486e-01,  -1.80931477e+00,\n",
       "         -7.90772108e-01,  -7.37998648e-01,  -1.67192287e-01,\n",
       "         -5.64156408e-02,  -5.60390117e-01,  -4.58464538e-01,\n",
       "         -7.35208204e-01,   9.32531309e-01,   1.61680144e-01,\n",
       "         -7.01718471e-01]])"
      ]
     },
     "execution_count": 171,
     "metadata": {},
     "output_type": "execute_result"
    }
   ],
   "source": [
    "kmeans.cluster_centers_"
   ]
  },
  {
   "cell_type": "code",
   "execution_count": 172,
   "metadata": {
    "collapsed": false
   },
   "outputs": [
    {
     "data": {
      "text/plain": [
       "935.96718088550733"
      ]
     },
     "execution_count": 172,
     "metadata": {},
     "output_type": "execute_result"
    }
   ],
   "source": [
    "#Sum of distances of samples to their closest cluster center.\n",
    "kmeans.inertia_"
   ]
  },
  {
   "cell_type": "code",
   "execution_count": 175,
   "metadata": {
    "collapsed": false
   },
   "outputs": [
    {
     "data": {
      "text/html": [
       "<div>\n",
       "<table border=\"1\" class=\"dataframe\">\n",
       "  <thead>\n",
       "    <tr style=\"text-align: right;\">\n",
       "      <th>Cluster</th>\n",
       "      <th>0</th>\n",
       "      <th>1</th>\n",
       "      <th>2</th>\n",
       "      <th>3</th>\n",
       "      <th>4</th>\n",
       "      <th>5</th>\n",
       "      <th>6</th>\n",
       "      <th>7</th>\n",
       "    </tr>\n",
       "    <tr>\n",
       "      <th>Type</th>\n",
       "      <th></th>\n",
       "      <th></th>\n",
       "      <th></th>\n",
       "      <th></th>\n",
       "      <th></th>\n",
       "      <th></th>\n",
       "      <th></th>\n",
       "      <th></th>\n",
       "    </tr>\n",
       "  </thead>\n",
       "  <tbody>\n",
       "    <tr>\n",
       "      <th>A</th>\n",
       "      <td>46</td>\n",
       "      <td>0</td>\n",
       "      <td>2</td>\n",
       "      <td>0</td>\n",
       "      <td>10</td>\n",
       "      <td>0</td>\n",
       "      <td>0</td>\n",
       "      <td>1</td>\n",
       "    </tr>\n",
       "    <tr>\n",
       "      <th>B</th>\n",
       "      <td>0</td>\n",
       "      <td>6</td>\n",
       "      <td>27</td>\n",
       "      <td>17</td>\n",
       "      <td>6</td>\n",
       "      <td>3</td>\n",
       "      <td>0</td>\n",
       "      <td>12</td>\n",
       "    </tr>\n",
       "    <tr>\n",
       "      <th>C</th>\n",
       "      <td>0</td>\n",
       "      <td>22</td>\n",
       "      <td>0</td>\n",
       "      <td>0</td>\n",
       "      <td>0</td>\n",
       "      <td>0</td>\n",
       "      <td>26</td>\n",
       "      <td>0</td>\n",
       "    </tr>\n",
       "  </tbody>\n",
       "</table>\n",
       "</div>"
      ],
      "text/plain": [
       "Cluster   0   1   2   3   4  5   6   7\n",
       "Type                                  \n",
       "A        46   0   2   0  10  0   0   1\n",
       "B         0   6  27  17   6  3   0  12\n",
       "C         0  22   0   0   0  0  26   0"
      ]
     },
     "execution_count": 175,
     "metadata": {},
     "output_type": "execute_result"
    }
   ],
   "source": [
    "pd.crosstab(Wine[\"Type\"],kmeans.labels_, rownames=[\"Type\"], colnames=[\"Cluster\"])"
   ]
  },
  {
   "cell_type": "markdown",
   "metadata": {},
   "source": [
    "##### Hierarchichal Clustering"
   ]
  },
  {
   "cell_type": "code",
   "execution_count": 241,
   "metadata": {
    "collapsed": false
   },
   "outputs": [
    {
     "data": {
      "text/html": [
       "<div>\n",
       "<table border=\"1\" class=\"dataframe\">\n",
       "  <thead>\n",
       "    <tr style=\"text-align: right;\">\n",
       "      <th></th>\n",
       "      <th>Univ</th>\n",
       "      <th>SAT</th>\n",
       "      <th>Top10</th>\n",
       "      <th>Accept</th>\n",
       "      <th>SFRatio</th>\n",
       "      <th>Expenses</th>\n",
       "      <th>GradRate</th>\n",
       "    </tr>\n",
       "  </thead>\n",
       "  <tbody>\n",
       "    <tr>\n",
       "      <th>0</th>\n",
       "      <td>Brown</td>\n",
       "      <td>1310</td>\n",
       "      <td>89</td>\n",
       "      <td>22</td>\n",
       "      <td>13</td>\n",
       "      <td>22704</td>\n",
       "      <td>94</td>\n",
       "    </tr>\n",
       "    <tr>\n",
       "      <th>1</th>\n",
       "      <td>CalTech</td>\n",
       "      <td>1415</td>\n",
       "      <td>100</td>\n",
       "      <td>25</td>\n",
       "      <td>6</td>\n",
       "      <td>63575</td>\n",
       "      <td>81</td>\n",
       "    </tr>\n",
       "    <tr>\n",
       "      <th>2</th>\n",
       "      <td>CMU</td>\n",
       "      <td>1260</td>\n",
       "      <td>62</td>\n",
       "      <td>59</td>\n",
       "      <td>9</td>\n",
       "      <td>25026</td>\n",
       "      <td>72</td>\n",
       "    </tr>\n",
       "    <tr>\n",
       "      <th>3</th>\n",
       "      <td>Columbia</td>\n",
       "      <td>1310</td>\n",
       "      <td>76</td>\n",
       "      <td>24</td>\n",
       "      <td>12</td>\n",
       "      <td>31510</td>\n",
       "      <td>88</td>\n",
       "    </tr>\n",
       "    <tr>\n",
       "      <th>4</th>\n",
       "      <td>Cornell</td>\n",
       "      <td>1280</td>\n",
       "      <td>83</td>\n",
       "      <td>33</td>\n",
       "      <td>13</td>\n",
       "      <td>21864</td>\n",
       "      <td>90</td>\n",
       "    </tr>\n",
       "  </tbody>\n",
       "</table>\n",
       "</div>"
      ],
      "text/plain": [
       "       Univ   SAT  Top10  Accept  SFRatio  Expenses  GradRate\n",
       "0     Brown  1310     89      22       13     22704        94\n",
       "1   CalTech  1415    100      25        6     63575        81\n",
       "2       CMU  1260     62      59        9     25026        72\n",
       "3  Columbia  1310     76      24       12     31510        88\n",
       "4   Cornell  1280     83      33       13     21864        90"
      ]
     },
     "execution_count": 241,
     "metadata": {},
     "output_type": "execute_result"
    }
   ],
   "source": [
    "import pandas as pd\n",
    "#Loading Dataset in DataFrame\n",
    "Uni = pd.DataFrame.from_csv(\"C:\\\\Users\\\\Jayant\\\\Desktop\\\\DMPA\\\\PythonSlides\\\\Universities.csv\", index_col=None)\n",
    "Uni.head()"
   ]
  },
  {
   "cell_type": "code",
   "execution_count": 242,
   "metadata": {
    "collapsed": false
   },
   "outputs": [
    {
     "data": {
      "text/plain": [
       "array([[ 0.41028362,  0.6575195 , -0.88986682,  0.07026045, -0.33141256,\n",
       "         0.82030265],\n",
       "       [ 1.39925928,  1.23521235, -0.73465749, -1.68625071,  2.56038138,\n",
       "        -0.64452351],\n",
       "       [-0.06065717, -0.76045386,  1.02438157, -0.93346022, -0.16712136,\n",
       "        -1.65863393],\n",
       "       [ 0.41028362, -0.02520842, -0.78639393, -0.18066972,  0.29164871,\n",
       "         0.14422904],\n",
       "       [ 0.12771914,  0.34241431, -0.32076595,  0.07026045, -0.39084607,\n",
       "         0.36958691],\n",
       "       [ 0.69284809,  0.6575195 , -0.83813038, -0.68253005,  0.33778044,\n",
       "         0.93298158],\n",
       "       [ 0.4573777 ,  0.71003703, -0.47597528, -0.18066972,  0.29695528,\n",
       "         0.93298158],\n",
       "       [-0.10775125, -0.13024348, -0.78639393, -0.18066972, -0.51381683,\n",
       "         0.59494478],\n",
       "       [ 1.25797704,  0.76255456, -1.30375836, -0.43159988,  0.85874344,\n",
       "         1.15833946],\n",
       "       [ 0.36318954, -0.07772595,  0.24833493, -1.43532055,  2.21481798,\n",
       "         0.0315501 ],\n",
       "       [ 1.06960072,  0.92010716, -0.47597528, -0.68253005,  0.52938275,\n",
       "         0.48226584],\n",
       "       [-0.06065717,  0.44744937, -0.01034729, -0.43159988,  0.04698077,\n",
       "         0.25690797],\n",
       "       [-0.10775125,  0.23737924,  0.14486204,  0.07026045, -0.86787073,\n",
       "         0.82030265],\n",
       "       [-1.7466252 , -2.02087462,  0.76569936,  1.32491127, -1.21718409,\n",
       "        -0.75720245],\n",
       "       [ 1.02250664,  0.76255456, -1.30375836, -1.18439038,  0.20037583,\n",
       "         0.93298158],\n",
       "       [-2.46245521, -2.54604994,  2.6282113 ,  1.57584144, -1.29635802,\n",
       "        -1.99667073],\n",
       "       [ 0.88122441,  0.71003703, -0.9933397 , -0.18066972,  0.64117435,\n",
       "         0.70762371],\n",
       "       [-1.8031381 , -1.44318177,  1.43827311,  3.08142243, -1.32197103,\n",
       "        -2.22202861],\n",
       "       [-0.24903349,  0.97262469,  0.04138915,  1.07398111, -0.86659715,\n",
       "        -0.98256032],\n",
       "       [ 0.2219073 , -0.07772595,  0.55875358,  0.07026045,  0.77772991,\n",
       "         0.0315501 ],\n",
       "       [-0.81416244, -0.60290126,  1.49000956,  0.82305094, -0.84324827,\n",
       "        -0.19380777],\n",
       "       [ 0.17481322,  0.18486171, -0.16555662, -0.43159988,  0.01167444,\n",
       "         0.36958691],\n",
       "       [-0.39031573,  0.02730912,  0.24833493,  0.32119061, -0.99331788,\n",
       "         0.59494478],\n",
       "       [-1.70894994, -1.91583956,  1.541746  ,  0.57212078, -1.09888311,\n",
       "        -1.77131286],\n",
       "       [ 1.02250664,  0.97262469, -1.04507615, -0.43159988,  1.14098185,\n",
       "         1.04566052]])"
      ]
     },
     "execution_count": 242,
     "metadata": {},
     "output_type": "execute_result"
    }
   ],
   "source": [
    "#Normalizing the data\n",
    "from sklearn import preprocessing\n",
    "Uni_scaled_X = preprocessing.scale(Uni.ix[:,1:])\n",
    "Uni_scaled_X"
   ]
  },
  {
   "cell_type": "code",
   "execution_count": 243,
   "metadata": {
    "collapsed": false
   },
   "outputs": [],
   "source": [
    "#hierarchical clustering\n",
    "from scipy.cluster.hierarchy import dendrogram, linkage\n",
    "import numpy as np\n",
    "# generate the linkage matrix\n",
    "Z_complete = linkage(Uni_scaled_X, 'complete')\n",
    "Z_average = linkage(Uni_scaled_X, 'average')\n",
    "Z_single = linkage(Uni_scaled_X, 'single')\n",
    "Z_centroid = linkage(Uni_scaled_X, 'centroid')"
   ]
  },
  {
   "cell_type": "code",
   "execution_count": 244,
   "metadata": {
    "collapsed": false
   },
   "outputs": [
    {
     "data": {
      "image/png": "[encoded data removed]",
      "text/plain": [
       "<matplotlib.figure.Figure at 0x26a09c7e198>"
      ]
     },
     "metadata": {},
     "output_type": "display_data"
    }
   ],
   "source": [
    "#plot dendograms\n",
    "from matplotlib import pyplot as plt\n",
    "dendrogram(Z_complete)\n",
    "plt.ylabel('Height')\n",
    "plt.title('Complete Linkage')\n",
    "plt.show()"
   ]
  },
  {
   "cell_type": "code",
   "execution_count": 245,
   "metadata": {
    "collapsed": false
   },
   "outputs": [
    {
     "data": {
      "image/png": "[encoded data removed]",
      "text/plain": [
       "<matplotlib.figure.Figure at 0x26a099e26d8>"
      ]
     },
     "metadata": {},
     "output_type": "display_data"
    }
   ],
   "source": [
    "#plot dendograms\n",
    "from matplotlib import pyplot as plt\n",
    "dendrogram(Z_average)\n",
    "plt.ylabel('Height')\n",
    "plt.title('Average Linkage')\n",
    "plt.show()"
   ]
  },
  {
   "cell_type": "code",
   "execution_count": 246,
   "metadata": {
    "collapsed": false
   },
   "outputs": [
    {
     "data": {
      "image/png": "[encoded data removed]",
      "text/plain": [
       "<matplotlib.figure.Figure at 0x26a09d94dd8>"
      ]
     },
     "metadata": {},
     "output_type": "display_data"
    }
   ],
   "source": [
    "#plot dendograms\n",
    "from matplotlib import pyplot as plt\n",
    "dendrogram(Z_single)\n",
    "plt.ylabel('Height')\n",
    "plt.title('Single Linkage')\n",
    "plt.show()"
   ]
  },
  {
   "cell_type": "code",
   "execution_count": 247,
   "metadata": {
    "collapsed": false
   },
   "outputs": [
    {
     "data": {
      "image/png": "[encoded data removed]",
      "text/plain": [
       "<matplotlib.figure.Figure at 0x26a09e81320>"
      ]
     },
     "metadata": {},
     "output_type": "display_data"
    }
   ],
   "source": [
    "#plot dendograms\n",
    "from matplotlib import pyplot as plt\n",
    "dendrogram(Z_centroid)\n",
    "plt.ylabel('Height')\n",
    "plt.title('Centroid Linkage')\n",
    "plt.show()"
   ]
  },
  {
   "cell_type": "code",
   "execution_count": 248,
   "metadata": {
    "collapsed": false
   },
   "outputs": [
    {
     "data": {
      "text/plain": [
       "array([[0],\n",
       "       [1],\n",
       "       [2],\n",
       "       [0],\n",
       "       [0],\n",
       "       [1],\n",
       "       [1],\n",
       "       [0],\n",
       "       [1],\n",
       "       [1],\n",
       "       [1],\n",
       "       [0],\n",
       "       [0],\n",
       "       [2],\n",
       "       [1],\n",
       "       [3],\n",
       "       [1],\n",
       "       [3],\n",
       "       [0],\n",
       "       [0],\n",
       "       [2],\n",
       "       [0],\n",
       "       [0],\n",
       "       [2],\n",
       "       [1]])"
      ]
     },
     "execution_count": 248,
     "metadata": {},
     "output_type": "execute_result"
    }
   ],
   "source": [
    "#Identifying Clusters\n",
    "from scipy.cluster.hierarchy import cut_tree\n",
    "cut_tree(Z_complete, 4)"
   ]
  },
  {
   "cell_type": "code",
   "execution_count": 249,
   "metadata": {
    "collapsed": false
   },
   "outputs": [
    {
     "data": {
      "text/plain": [
       "array([[0],\n",
       "       [1],\n",
       "       [2],\n",
       "       [0],\n",
       "       [0],\n",
       "       [0],\n",
       "       [0],\n",
       "       [0],\n",
       "       [0],\n",
       "       [1],\n",
       "       [0],\n",
       "       [0],\n",
       "       [0],\n",
       "       [3],\n",
       "       [0],\n",
       "       [3],\n",
       "       [0],\n",
       "       [3],\n",
       "       [2],\n",
       "       [0],\n",
       "       [2],\n",
       "       [0],\n",
       "       [0],\n",
       "       [3],\n",
       "       [0]])"
      ]
     },
     "execution_count": 249,
     "metadata": {},
     "output_type": "execute_result"
    }
   ],
   "source": [
    "cut_tree(Z_average, 4)"
   ]
  },
  {
   "cell_type": "code",
   "execution_count": 250,
   "metadata": {
    "collapsed": false
   },
   "outputs": [
    {
     "data": {
      "text/plain": [
       "array([[0],\n",
       "       [1],\n",
       "       [2],\n",
       "       [0],\n",
       "       [0],\n",
       "       [0],\n",
       "       [0],\n",
       "       [0],\n",
       "       [0],\n",
       "       [1],\n",
       "       [0],\n",
       "       [0],\n",
       "       [0],\n",
       "       [0],\n",
       "       [0],\n",
       "       [0],\n",
       "       [0],\n",
       "       [3],\n",
       "       [0],\n",
       "       [0],\n",
       "       [0],\n",
       "       [0],\n",
       "       [0],\n",
       "       [0],\n",
       "       [0]])"
      ]
     },
     "execution_count": 250,
     "metadata": {},
     "output_type": "execute_result"
    }
   ],
   "source": [
    "cut_tree(Z_single, 4)"
   ]
  },
  {
   "cell_type": "code",
   "execution_count": 251,
   "metadata": {
    "collapsed": false
   },
   "outputs": [
    {
     "data": {
      "text/plain": [
       "array([[0],\n",
       "       [1],\n",
       "       [0],\n",
       "       [0],\n",
       "       [0],\n",
       "       [0],\n",
       "       [0],\n",
       "       [0],\n",
       "       [0],\n",
       "       [1],\n",
       "       [0],\n",
       "       [0],\n",
       "       [0],\n",
       "       [3],\n",
       "       [0],\n",
       "       [3],\n",
       "       [0],\n",
       "       [3],\n",
       "       [0],\n",
       "       [0],\n",
       "       [0],\n",
       "       [0],\n",
       "       [0],\n",
       "       [3],\n",
       "       [0]])"
      ]
     },
     "execution_count": 251,
     "metadata": {},
     "output_type": "execute_result"
    }
   ],
   "source": [
    "cut_tree(Z_centroid, 4)"
   ]
  },
  {
   "cell_type": "code",
   "execution_count": 252,
   "metadata": {
    "collapsed": false
   },
   "outputs": [
    {
     "data": {
      "text/html": [
       "<div>\n",
       "<table border=\"1\" class=\"dataframe\">\n",
       "  <thead>\n",
       "    <tr style=\"text-align: right;\">\n",
       "      <th></th>\n",
       "      <th>Univ</th>\n",
       "      <th>Z_complete</th>\n",
       "      <th>Z_average</th>\n",
       "      <th>Z_single</th>\n",
       "      <th>Z_centroid</th>\n",
       "    </tr>\n",
       "  </thead>\n",
       "  <tbody>\n",
       "    <tr>\n",
       "      <th>0</th>\n",
       "      <td>Brown</td>\n",
       "      <td>0</td>\n",
       "      <td>0</td>\n",
       "      <td>0</td>\n",
       "      <td>0</td>\n",
       "    </tr>\n",
       "    <tr>\n",
       "      <th>1</th>\n",
       "      <td>CalTech</td>\n",
       "      <td>1</td>\n",
       "      <td>1</td>\n",
       "      <td>1</td>\n",
       "      <td>1</td>\n",
       "    </tr>\n",
       "    <tr>\n",
       "      <th>2</th>\n",
       "      <td>CMU</td>\n",
       "      <td>2</td>\n",
       "      <td>2</td>\n",
       "      <td>2</td>\n",
       "      <td>0</td>\n",
       "    </tr>\n",
       "    <tr>\n",
       "      <th>3</th>\n",
       "      <td>Columbia</td>\n",
       "      <td>0</td>\n",
       "      <td>0</td>\n",
       "      <td>0</td>\n",
       "      <td>0</td>\n",
       "    </tr>\n",
       "    <tr>\n",
       "      <th>4</th>\n",
       "      <td>Cornell</td>\n",
       "      <td>0</td>\n",
       "      <td>0</td>\n",
       "      <td>0</td>\n",
       "      <td>0</td>\n",
       "    </tr>\n",
       "    <tr>\n",
       "      <th>5</th>\n",
       "      <td>Dartmouth</td>\n",
       "      <td>1</td>\n",
       "      <td>0</td>\n",
       "      <td>0</td>\n",
       "      <td>0</td>\n",
       "    </tr>\n",
       "    <tr>\n",
       "      <th>6</th>\n",
       "      <td>Duke</td>\n",
       "      <td>1</td>\n",
       "      <td>0</td>\n",
       "      <td>0</td>\n",
       "      <td>0</td>\n",
       "    </tr>\n",
       "    <tr>\n",
       "      <th>7</th>\n",
       "      <td>Georgetown</td>\n",
       "      <td>0</td>\n",
       "      <td>0</td>\n",
       "      <td>0</td>\n",
       "      <td>0</td>\n",
       "    </tr>\n",
       "    <tr>\n",
       "      <th>8</th>\n",
       "      <td>Harvard</td>\n",
       "      <td>1</td>\n",
       "      <td>0</td>\n",
       "      <td>0</td>\n",
       "      <td>0</td>\n",
       "    </tr>\n",
       "    <tr>\n",
       "      <th>9</th>\n",
       "      <td>JohnsHopkins</td>\n",
       "      <td>1</td>\n",
       "      <td>1</td>\n",
       "      <td>1</td>\n",
       "      <td>1</td>\n",
       "    </tr>\n",
       "    <tr>\n",
       "      <th>10</th>\n",
       "      <td>MIT</td>\n",
       "      <td>1</td>\n",
       "      <td>0</td>\n",
       "      <td>0</td>\n",
       "      <td>0</td>\n",
       "    </tr>\n",
       "    <tr>\n",
       "      <th>11</th>\n",
       "      <td>Northwestern</td>\n",
       "      <td>0</td>\n",
       "      <td>0</td>\n",
       "      <td>0</td>\n",
       "      <td>0</td>\n",
       "    </tr>\n",
       "    <tr>\n",
       "      <th>12</th>\n",
       "      <td>NotreDame</td>\n",
       "      <td>0</td>\n",
       "      <td>0</td>\n",
       "      <td>0</td>\n",
       "      <td>0</td>\n",
       "    </tr>\n",
       "    <tr>\n",
       "      <th>13</th>\n",
       "      <td>PennState</td>\n",
       "      <td>2</td>\n",
       "      <td>3</td>\n",
       "      <td>0</td>\n",
       "      <td>3</td>\n",
       "    </tr>\n",
       "    <tr>\n",
       "      <th>14</th>\n",
       "      <td>Princeton</td>\n",
       "      <td>1</td>\n",
       "      <td>0</td>\n",
       "      <td>0</td>\n",
       "      <td>0</td>\n",
       "    </tr>\n",
       "    <tr>\n",
       "      <th>15</th>\n",
       "      <td>Purdue</td>\n",
       "      <td>3</td>\n",
       "      <td>3</td>\n",
       "      <td>0</td>\n",
       "      <td>3</td>\n",
       "    </tr>\n",
       "    <tr>\n",
       "      <th>16</th>\n",
       "      <td>Stanford</td>\n",
       "      <td>1</td>\n",
       "      <td>0</td>\n",
       "      <td>0</td>\n",
       "      <td>0</td>\n",
       "    </tr>\n",
       "    <tr>\n",
       "      <th>17</th>\n",
       "      <td>TexasA&amp;M</td>\n",
       "      <td>3</td>\n",
       "      <td>3</td>\n",
       "      <td>3</td>\n",
       "      <td>3</td>\n",
       "    </tr>\n",
       "    <tr>\n",
       "      <th>18</th>\n",
       "      <td>UCBerkeley</td>\n",
       "      <td>0</td>\n",
       "      <td>2</td>\n",
       "      <td>0</td>\n",
       "      <td>0</td>\n",
       "    </tr>\n",
       "    <tr>\n",
       "      <th>19</th>\n",
       "      <td>UChicago</td>\n",
       "      <td>0</td>\n",
       "      <td>0</td>\n",
       "      <td>0</td>\n",
       "      <td>0</td>\n",
       "    </tr>\n",
       "    <tr>\n",
       "      <th>20</th>\n",
       "      <td>UMichigan</td>\n",
       "      <td>2</td>\n",
       "      <td>2</td>\n",
       "      <td>0</td>\n",
       "      <td>0</td>\n",
       "    </tr>\n",
       "    <tr>\n",
       "      <th>21</th>\n",
       "      <td>UPenn</td>\n",
       "      <td>0</td>\n",
       "      <td>0</td>\n",
       "      <td>0</td>\n",
       "      <td>0</td>\n",
       "    </tr>\n",
       "    <tr>\n",
       "      <th>22</th>\n",
       "      <td>UVA</td>\n",
       "      <td>0</td>\n",
       "      <td>0</td>\n",
       "      <td>0</td>\n",
       "      <td>0</td>\n",
       "    </tr>\n",
       "    <tr>\n",
       "      <th>23</th>\n",
       "      <td>UWisconsin</td>\n",
       "      <td>2</td>\n",
       "      <td>3</td>\n",
       "      <td>0</td>\n",
       "      <td>3</td>\n",
       "    </tr>\n",
       "    <tr>\n",
       "      <th>24</th>\n",
       "      <td>Yale</td>\n",
       "      <td>1</td>\n",
       "      <td>0</td>\n",
       "      <td>0</td>\n",
       "      <td>0</td>\n",
       "    </tr>\n",
       "  </tbody>\n",
       "</table>\n",
       "</div>"
      ],
      "text/plain": [
       "            Univ  Z_complete  Z_average  Z_single  Z_centroid\n",
       "0          Brown           0          0         0           0\n",
       "1        CalTech           1          1         1           1\n",
       "2            CMU           2          2         2           0\n",
       "3       Columbia           0          0         0           0\n",
       "4        Cornell           0          0         0           0\n",
       "5      Dartmouth           1          0         0           0\n",
       "6           Duke           1          0         0           0\n",
       "7     Georgetown           0          0         0           0\n",
       "8        Harvard           1          0         0           0\n",
       "9   JohnsHopkins           1          1         1           1\n",
       "10           MIT           1          0         0           0\n",
       "11  Northwestern           0          0         0           0\n",
       "12     NotreDame           0          0         0           0\n",
       "13     PennState           2          3         0           3\n",
       "14     Princeton           1          0         0           0\n",
       "15        Purdue           3          3         0           3\n",
       "16      Stanford           1          0         0           0\n",
       "17      TexasA&M           3          3         3           3\n",
       "18    UCBerkeley           0          2         0           0\n",
       "19      UChicago           0          0         0           0\n",
       "20     UMichigan           2          2         0           0\n",
       "21         UPenn           0          0         0           0\n",
       "22           UVA           0          0         0           0\n",
       "23    UWisconsin           2          3         0           3\n",
       "24          Yale           1          0         0           0"
      ]
     },
     "execution_count": 252,
     "metadata": {},
     "output_type": "execute_result"
    }
   ],
   "source": [
    "#Identifying Clusters\n",
    "df_Z_complete = pd.DataFrame(cut_tree(Z_complete, 4), columns=['Z_complete'])\n",
    "df_Z_average = pd.DataFrame(cut_tree(Z_average, 4), columns=['Z_average'])\n",
    "df_Z_single = pd.DataFrame(cut_tree(Z_single, 4), columns=['Z_single'])\n",
    "df_Z_centroid = pd.DataFrame(cut_tree(Z_centroid, 4), columns=['Z_centroid'])\n",
    "df_uni = pd.DataFrame(Uni['Univ'], columns=['Univ'])\n",
    "pd.concat([df_uni,df_Z_complete,df_Z_average,df_Z_single,df_Z_centroid], axis=1)"
   ]
  }
 ],
 "metadata": {
  "kernelspec": {
   "display_name": "Python 3",
   "language": "python",
   "name": "python3"
  },
  "language_info": {
   "codemirror_mode": {
    "name": "ipython",
    "version": 3
   },
   "file_extension": ".py",
   "mimetype": "text/x-python",
   "name": "python",
   "nbconvert_exporter": "python",
   "pygments_lexer": "ipython3",
   "version": "3.6.0"
  }
 },
 "nbformat": 4,
 "nbformat_minor": 2
}
