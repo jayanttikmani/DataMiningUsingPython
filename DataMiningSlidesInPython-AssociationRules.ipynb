{
 "cells": [
  {
   "cell_type": "markdown",
   "metadata": {},
   "source": [
    "#### Association Rules"
   ]
  },
  {
   "cell_type": "code",
   "execution_count": 19,
   "metadata": {
    "collapsed": true
   },
   "outputs": [],
   "source": [
    "# Apriori\n",
    "\n",
    "# Importing the libraries\n",
    "import numpy as np\n",
    "import matplotlib.pyplot as plt\n",
    "import pandas as pd"
   ]
  },
  {
   "cell_type": "code",
   "execution_count": 96,
   "metadata": {},
   "outputs": [
    {
     "data": {
      "text/plain": [
       "[['shrimp',\n",
       "  'almonds',\n",
       "  'avocado',\n",
       "  'vegetables mix',\n",
       "  'green grapes',\n",
       "  'whole weat flour',\n",
       "  'yams',\n",
       "  'cottage cheese',\n",
       "  'energy drink',\n",
       "  'tomato juice',\n",
       "  'low fat yogurt',\n",
       "  'green tea',\n",
       "  'honey',\n",
       "  'salad',\n",
       "  'mineral water',\n",
       "  'salmon',\n",
       "  'antioxydant juice',\n",
       "  'frozen smoothie',\n",
       "  'spinach',\n",
       "  'olive oil']]"
      ]
     },
     "execution_count": 96,
     "metadata": {},
     "output_type": "execute_result"
    }
   ],
   "source": [
    "# Data Preprocessing\n",
    "dataset = pd.read_csv('C:\\\\Users\\\\Jayant\\\\Desktop\\\\Courses & Projects\\\\Machine Learning A-Z Template Folder\\\\Part 5 - Association Rule Learning\\\\Section 28 - Apriori\\\\Market_Basket_Optimisation.csv', header = None)\n",
    "transactions = []\n",
    "for i in range(0, len(dataset)):\n",
    "    transactions.append([str(dataset.values[i,j]) for j in range(0, len(dataset.columns.values))])\n",
    "#one example transaction\n",
    "transactions[:1]"
   ]
  },
  {
   "cell_type": "code",
   "execution_count": 87,
   "metadata": {
    "collapsed": true
   },
   "outputs": [],
   "source": [
    "# Training Apriori on the dataset\n",
    "from apyori import apriori\n",
    "rules = apriori(transactions, min_support = 0.003, min_confidence = 0.2, min_lift = 3, min_length = 2)"
   ]
  },
  {
   "cell_type": "code",
   "execution_count": 88,
   "metadata": {
    "collapsed": true
   },
   "outputs": [],
   "source": [
    "# Exploring the rules\n",
    "results = list(rules)"
   ]
  },
  {
   "cell_type": "code",
   "execution_count": 89,
   "metadata": {},
   "outputs": [
    {
     "data": {
      "text/plain": [
       "[RelationRecord(items=frozenset({'light cream', 'chicken'}), support=0.004532728969470737, ordered_statistics=[OrderedStatistic(items_base=frozenset({'light cream'}), items_add=frozenset({'chicken'}), confidence=0.29059829059829057, lift=4.84395061728395)]),\n",
       " RelationRecord(items=frozenset({'escalope', 'mushroom cream sauce'}), support=0.005732568990801226, ordered_statistics=[OrderedStatistic(items_base=frozenset({'mushroom cream sauce'}), items_add=frozenset({'escalope'}), confidence=0.3006993006993007, lift=3.790832696715049)]),\n",
       " RelationRecord(items=frozenset({'escalope', 'pasta'}), support=0.005865884548726837, ordered_statistics=[OrderedStatistic(items_base=frozenset({'pasta'}), items_add=frozenset({'escalope'}), confidence=0.3728813559322034, lift=4.700811850163794)]),\n",
       " RelationRecord(items=frozenset({'fromage blanc', 'honey'}), support=0.003332888948140248, ordered_statistics=[OrderedStatistic(items_base=frozenset({'fromage blanc'}), items_add=frozenset({'honey'}), confidence=0.2450980392156863, lift=5.164270764485569)]),\n",
       " RelationRecord(items=frozenset({'ground beef', 'herb & pepper'}), support=0.015997866951073192, ordered_statistics=[OrderedStatistic(items_base=frozenset({'herb & pepper'}), items_add=frozenset({'ground beef'}), confidence=0.3234501347708895, lift=3.2919938411349285)]),\n",
       " RelationRecord(items=frozenset({'ground beef', 'tomato sauce'}), support=0.005332622317024397, ordered_statistics=[OrderedStatistic(items_base=frozenset({'tomato sauce'}), items_add=frozenset({'ground beef'}), confidence=0.3773584905660377, lift=3.840659481324083)]),\n",
       " RelationRecord(items=frozenset({'light cream', 'olive oil'}), support=0.003199573390214638, ordered_statistics=[OrderedStatistic(items_base=frozenset({'light cream'}), items_add=frozenset({'olive oil'}), confidence=0.20512820512820515, lift=3.1147098515519573)]),\n",
       " RelationRecord(items=frozenset({'olive oil', 'whole wheat pasta'}), support=0.007998933475536596, ordered_statistics=[OrderedStatistic(items_base=frozenset({'whole wheat pasta'}), items_add=frozenset({'olive oil'}), confidence=0.2714932126696833, lift=4.122410097642296)])]"
      ]
     },
     "execution_count": 89,
     "metadata": {},
     "output_type": "execute_result"
    }
   ],
   "source": [
    "# Exploring the top 8 results\n",
    "results[:8]"
   ]
  },
  {
   "cell_type": "code",
   "execution_count": 94,
   "metadata": {
    "collapsed": true
   },
   "outputs": [],
   "source": [
    "#accessing the rules, support, confidence and lift\n",
    "assocRules = [{i[2][0][0]: i[2][0][1], 'support': i[1], 'confidence': i[2][0][2], 'lift': i[2][0][3]} for i in results]"
   ]
  },
  {
   "cell_type": "code",
   "execution_count": 91,
   "metadata": {},
   "outputs": [
    {
     "data": {
      "text/plain": [
       "[{frozenset({'light cream'}): frozenset({'chicken'}),\n",
       "  'support': 0.004532728969470737,\n",
       "  'confidence': 0.29059829059829057,\n",
       "  'lift': 4.84395061728395},\n",
       " {frozenset({'mushroom cream sauce'}): frozenset({'escalope'}),\n",
       "  'support': 0.005732568990801226,\n",
       "  'confidence': 0.3006993006993007,\n",
       "  'lift': 3.790832696715049},\n",
       " {frozenset({'pasta'}): frozenset({'escalope'}),\n",
       "  'support': 0.005865884548726837,\n",
       "  'confidence': 0.3728813559322034,\n",
       "  'lift': 4.700811850163794},\n",
       " {frozenset({'fromage blanc'}): frozenset({'honey'}),\n",
       "  'support': 0.003332888948140248,\n",
       "  'confidence': 0.2450980392156863,\n",
       "  'lift': 5.164270764485569},\n",
       " {frozenset({'herb & pepper'}): frozenset({'ground beef'}),\n",
       "  'support': 0.015997866951073192,\n",
       "  'confidence': 0.3234501347708895,\n",
       "  'lift': 3.2919938411349285},\n",
       " {frozenset({'tomato sauce'}): frozenset({'ground beef'}),\n",
       "  'support': 0.005332622317024397,\n",
       "  'confidence': 0.3773584905660377,\n",
       "  'lift': 3.840659481324083},\n",
       " {frozenset({'light cream'}): frozenset({'olive oil'}),\n",
       "  'support': 0.003199573390214638,\n",
       "  'confidence': 0.20512820512820515,\n",
       "  'lift': 3.1147098515519573},\n",
       " {frozenset({'whole wheat pasta'}): frozenset({'olive oil'}),\n",
       "  'support': 0.007998933475536596,\n",
       "  'confidence': 0.2714932126696833,\n",
       "  'lift': 4.122410097642296}]"
      ]
     },
     "execution_count": 91,
     "metadata": {},
     "output_type": "execute_result"
    }
   ],
   "source": [
    "#exploring the support, confidence and lift for top 8 rules\n",
    "assocRules[:8]"
   ]
  },
  {
   "cell_type": "code",
   "execution_count": 92,
   "metadata": {},
   "outputs": [
    {
     "data": {
      "text/plain": [
       "[{frozenset({'light cream'}): frozenset({'chicken'}),\n",
       "  'support': 0.004532728969470737,\n",
       "  'confidence': 0.29059829059829057,\n",
       "  'lift': 4.84395061728395},\n",
       " {frozenset({'mushroom cream sauce'}): frozenset({'escalope'}),\n",
       "  'support': 0.005732568990801226,\n",
       "  'confidence': 0.3006993006993007,\n",
       "  'lift': 3.790832696715049},\n",
       " {frozenset({'pasta'}): frozenset({'escalope'}),\n",
       "  'support': 0.005865884548726837,\n",
       "  'confidence': 0.3728813559322034,\n",
       "  'lift': 4.700811850163794},\n",
       " {frozenset({'fromage blanc'}): frozenset({'honey'}),\n",
       "  'support': 0.003332888948140248,\n",
       "  'confidence': 0.2450980392156863,\n",
       "  'lift': 5.164270764485569},\n",
       " {frozenset({'herb & pepper'}): frozenset({'ground beef'}),\n",
       "  'support': 0.015997866951073192,\n",
       "  'confidence': 0.3234501347708895,\n",
       "  'lift': 3.2919938411349285}]"
      ]
     },
     "execution_count": 92,
     "metadata": {},
     "output_type": "execute_result"
    }
   ],
   "source": [
    "#examining top five rules\n",
    "assocRules[:5]"
   ]
  },
  {
   "cell_type": "code",
   "execution_count": 93,
   "metadata": {},
   "outputs": [
    {
     "data": {
      "text/plain": [
       "[{frozenset({'cereals', 'ground beef'}): frozenset({'spaghetti'}),\n",
       "  'support': 0.0030662578322890282,\n",
       "  'confidence': 0.6764705882352942,\n",
       "  'lift': 3.8853031258445188},\n",
       " {frozenset({'cereals', 'ground beef', 'nan'}): frozenset({'spaghetti'}),\n",
       "  'support': 0.0030662578322890282,\n",
       "  'confidence': 0.6764705882352942,\n",
       "  'lift': 3.8853031258445188},\n",
       " {frozenset({'olive oil', 'tomatoes'}): frozenset({'spaghetti'}),\n",
       "  'support': 0.004399413411545127,\n",
       "  'confidence': 0.6111111111111112,\n",
       "  'lift': 3.5099115194827295},\n",
       " {frozenset({'nan', 'olive oil', 'tomatoes'}): frozenset({'spaghetti'}),\n",
       "  'support': 0.004399413411545127,\n",
       "  'confidence': 0.6111111111111112,\n",
       "  'lift': 3.5099115194827295},\n",
       " {frozenset({'ground beef', 'tomato sauce'}): frozenset({'spaghetti'}),\n",
       "  'support': 0.0030662578322890282,\n",
       "  'confidence': 0.5750000000000001,\n",
       "  'lift': 3.3025076569678413},\n",
       " {frozenset({'ground beef', 'nan', 'tomato sauce'}): frozenset({'spaghetti'}),\n",
       "  'support': 0.0030662578322890282,\n",
       "  'confidence': 0.5750000000000001,\n",
       "  'lift': 3.3025076569678413},\n",
       " {frozenset({'cooking oil', 'ground beef'}): frozenset({'spaghetti'}),\n",
       "  'support': 0.004799360085321957,\n",
       "  'confidence': 0.5714285714285714,\n",
       "  'lift': 3.2819951870487856},\n",
       " {frozenset({'cooking oil', 'ground beef', 'nan'}): frozenset({'spaghetti'}),\n",
       "  'support': 0.004799360085321957,\n",
       "  'confidence': 0.5714285714285714,\n",
       "  'lift': 3.2819951870487856}]"
      ]
     },
     "execution_count": 93,
     "metadata": {},
     "output_type": "execute_result"
    }
   ],
   "source": [
    "#sorting rules by confidence and exploring top 8 rules\n",
    "sorted(assocRules, key=lambda k: k['confidence'], reverse=True)[:8]"
   ]
  },
  {
   "cell_type": "code",
   "execution_count": 11,
   "metadata": {
    "collapsed": true
   },
   "outputs": [],
   "source": [
    "#specifying maximum length of rules\n",
    "# Training Apriori on the dataset\n",
    "from apyori import apriori\n",
    "rules = apriori(transactions, min_support = 0.003, min_confidence = 0.2, min_lift = 3, min_length = 2, max_length=3)"
   ]
  },
  {
   "cell_type": "code",
   "execution_count": 95,
   "metadata": {},
   "outputs": [
    {
     "data": {
      "text/plain": [
       "[{frozenset({'cereals', 'ground beef'}): frozenset({'spaghetti'}),\n",
       "  'support': 0.0030662578322890282,\n",
       "  'confidence': 0.6764705882352942,\n",
       "  'lift': 3.8853031258445188},\n",
       " {frozenset({'cooking oil', 'ground beef'}): frozenset({'spaghetti'}),\n",
       "  'support': 0.004799360085321957,\n",
       "  'confidence': 0.5714285714285714,\n",
       "  'lift': 3.2819951870487856},\n",
       " {frozenset({'eggs', 'red wine'}): frozenset({'spaghetti'}),\n",
       "  'support': 0.0037328356219170776,\n",
       "  'confidence': 0.5283018867924528,\n",
       "  'lift': 3.0342974370828397},\n",
       " {frozenset({'ground beef', 'shrimp'}): frozenset({'spaghetti'}),\n",
       "  'support': 0.005999200106652446,\n",
       "  'confidence': 0.5232558139534884,\n",
       "  'lift': 3.005315360233627},\n",
       " {frozenset({'ground beef', 'tomato sauce'}): frozenset({'spaghetti'}),\n",
       "  'support': 0.0030662578322890282,\n",
       "  'confidence': 0.5750000000000001,\n",
       "  'lift': 3.3025076569678413},\n",
       " {frozenset({'olive oil', 'tomatoes'}): frozenset({'spaghetti'}),\n",
       "  'support': 0.004399413411545127,\n",
       "  'confidence': 0.6111111111111112,\n",
       "  'lift': 3.5099115194827295},\n",
       " {frozenset({'cereals', 'ground beef', 'nan'}): frozenset({'spaghetti'}),\n",
       "  'support': 0.0030662578322890282,\n",
       "  'confidence': 0.6764705882352942,\n",
       "  'lift': 3.8853031258445188},\n",
       " {frozenset({'chocolate',\n",
       "             'frozen vegetables',\n",
       "             'ground beef'}): frozenset({'spaghetti'}),\n",
       "  'support': 0.0030662578322890282,\n",
       "  'confidence': 0.5348837209302326,\n",
       "  'lift': 3.0721001460165964}]"
      ]
     },
     "execution_count": 95,
     "metadata": {},
     "output_type": "execute_result"
    }
   ],
   "source": [
    "#Targeting a consequent\n",
    "#say targeting 'spaghetti'\n",
    "from itertools import compress\n",
    "# gives list of top 8 rules having 'spaghetti' as the consequent (along with their support and confidence)\n",
    "list(compress(assocRules, [list(i.values())[0]==frozenset({'spaghetti'}) for i in assocRules]))[:8]"
   ]
  },
  {
   "cell_type": "code",
   "execution_count": 82,
   "metadata": {},
   "outputs": [
    {
     "data": {
      "image/png": "[encoded data removed]",
      "text/plain": [
       "<matplotlib.figure.Figure at 0x23318e8dda0>"
      ]
     },
     "metadata": {},
     "output_type": "display_data"
    }
   ],
   "source": [
    "#visualizing rules\n",
    "\n",
    "#support vs confidence (colormap by lift)\n",
    "\n",
    "#support list [list(i.values())[1] for i in assocRules]\n",
    "#confidence list [list(i.values())[2] for i in assocRules]\n",
    "#lift list [list(i.values())[3] for i in assocRules]\n",
    "\n",
    "import matplotlib.pyplot as plt\n",
    "\n",
    "cmap = sns.cubehelix_palette(8, as_cmap=True)\n",
    "plt.xlabel('Support', fontsize=15)\n",
    "plt.ylabel('Confidence', fontsize=15)\n",
    "plt.scatter([list(i.values())[1] for i in assocRules], [list(i.values())[2] for i in assocRules], c=[list(i.values())[3] for i in assocRules], cmap=cmap)\n",
    "tp = plt.colorbar()\n",
    "tp.ax.set_ylabel('Lift', fontsize=15)\n",
    "plt.show()"
   ]
  },
  {
   "cell_type": "code",
   "execution_count": 84,
   "metadata": {},
   "outputs": [
    {
     "data": {
      "image/png": "[encoded data removed]",
      "text/plain": [
       "<matplotlib.figure.Figure at 0x233190251d0>"
      ]
     },
     "metadata": {},
     "output_type": "display_data"
    }
   ],
   "source": [
    "#visualizing rules\n",
    "\n",
    "#support vs lift (colormap by confidence)\n",
    "\n",
    "#support list [list(i.values())[1] for i in assocRules]\n",
    "#confidence list [list(i.values())[2] for i in assocRules]\n",
    "#lift list [list(i.values())[3] for i in assocRules]\n",
    "\n",
    "import matplotlib.pyplot as plt\n",
    "\n",
    "cmap = sns.cubehelix_palette(8, as_cmap=True)\n",
    "plt.xlabel('Support', fontsize=15)\n",
    "plt.ylabel('Lift', fontsize=15)\n",
    "plt.scatter([list(i.values())[1] for i in assocRules], [list(i.values())[3] for i in assocRules], c=[list(i.values())[2] for i in assocRules], cmap=cmap)\n",
    "tp = plt.colorbar()\n",
    "tp.ax.set_ylabel('Confidence', fontsize=15)\n",
    "plt.show()"
   ]
  },
  {
   "cell_type": "code",
   "execution_count": null,
   "metadata": {
    "collapsed": true
   },
   "outputs": [],
   "source": []
  }
 ],
 "metadata": {
  "kernelspec": {
   "display_name": "Python 3",
   "language": "python",
   "name": "python3"
  },
  "language_info": {
   "codemirror_mode": {
    "name": "ipython",
    "version": 3
   },
   "file_extension": ".py",
   "mimetype": "text/x-python",
   "name": "python",
   "nbconvert_exporter": "python",
   "pygments_lexer": "ipython3",
   "version": "3.6.1"
  }
 },
 "nbformat": 4,
 "nbformat_minor": 2
}
